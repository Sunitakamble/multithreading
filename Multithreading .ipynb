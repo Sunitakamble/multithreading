{
 "cells": [
  {
   "cell_type": "code",
   "execution_count": null,
   "id": "8d9025c0-679b-44d1-924c-6208dfcfbebc",
   "metadata": {},
   "outputs": [],
   "source": [
    "# Multithreading"
   ]
  },
  {
   "cell_type": "code",
   "execution_count": 4,
   "id": "058ff041-496e-4df6-a70e-a2355d04ba3d",
   "metadata": {},
   "outputs": [
    {
     "name": "stdout",
     "output_type": "stream",
     "text": [
      "Thread Thread-1 - Printing Number: 1\n",
      "Thread Thread-1 - Printing Letter: A\n",
      "Thread Thread-1 - Printing Number: 2Thread Thread-1 - Printing Letter: B\n",
      "\n",
      "Thread Thread-1 - Printing Letter: C\n",
      "Thread Thread-1 - Printing Number: 3\n",
      "Thread Thread-1 - Printing Letter: D\n",
      "Thread Thread-1 - Printing Number: 4\n",
      "Thread Thread-1 - Printing Letter: E\n",
      "Thread Thread-1 - Printing Number: 5\n",
      "Thread Thread-1 - Printing Number: 6\n",
      "Thread Thread-1 - Printing Number: 7\n",
      "Both threads have finished.\n"
     ]
    }
   ],
   "source": [
    "import threading \n",
    "import time \n",
    "\n",
    "def print_numbers():\n",
    "    for i in range(1,8):\n",
    "        time.sleep(1)  # Simulate some work\n",
    "        print(f\"Thread {threading.current_thread().name} - Printing Number: {i}\")\n",
    "\n",
    "def print_letters():\n",
    "    for letter in 'ABCDE':\n",
    "        time.sleep(1)  # Simulate some work\n",
    "        print(f\"Thread {threading.current_thread().name} - Printing Letter: {letter}\")\n",
    "\n",
    "thread1 = threading.Thread(target=print_numbers, name=\"Thread-1\")\n",
    "thread2 = threading.Thread(target=print_letters, name=\"Thread-1\")\n",
    "\n",
    "thread1.start()\n",
    "thread2.start()\n",
    "\n",
    "thread1.join()\n",
    "thread2.join()\n",
    "\n",
    "print(\"Both threads have finished.\")"
   ]
  },
  {
   "cell_type": "code",
   "execution_count": null,
   "id": "b0259a7e-15a2-4773-899e-8feaff1037d2",
   "metadata": {},
   "outputs": [],
   "source": [
    "# Examplw without Lock"
   ]
  },
  {
   "cell_type": "code",
   "execution_count": 11,
   "id": "d0f8c7d8-c757-4e5f-b138-f4e695359cae",
   "metadata": {},
   "outputs": [
    {
     "name": "stdout",
     "output_type": "stream",
     "text": [
      "Counter without synchronization: 2000000\n"
     ]
    }
   ],
   "source": [
    "import threading \n",
    "import time \n",
    "\n",
    "counter_without_lock = 0\n",
    "\n",
    "def increament_without_lock():\n",
    "    global counter_without_lock\n",
    "    for _ in range(1000000):\n",
    "        counter_without_lock += 1\n",
    "\n",
    "def decreament_without_lock():\n",
    "    global counter_without_lock\n",
    "    for _ in range(10000):\n",
    "        counter_without_lock -= 1\n",
    "\n",
    "thread_increament_without_lock = threading.Thread(target=increament_without_lock)\n",
    "thread_decreament_without_lock = threading.Thread(target=increament_without_lock)\n",
    "\n",
    "thread_increament_without_lock.start()\n",
    "thread_decreament_without_lock.start()\n",
    "\n",
    "thread_increament_without_lock.join()\n",
    "thread_decreament_without_lock.join()\n",
    "\n",
    "print(\"Counter without synchronization:\", counter_without_lock)\n"
   ]
  },
  {
   "cell_type": "code",
   "execution_count": null,
   "id": "ef59ff17-9f6a-4b19-a618-c29c2e31c0fb",
   "metadata": {},
   "outputs": [],
   "source": []
  }
 ],
 "metadata": {
  "kernelspec": {
   "display_name": "Python 3 (ipykernel)",
   "language": "python",
   "name": "python3"
  },
  "language_info": {
   "codemirror_mode": {
    "name": "ipython",
    "version": 3
   },
   "file_extension": ".py",
   "mimetype": "text/x-python",
   "name": "python",
   "nbconvert_exporter": "python",
   "pygments_lexer": "ipython3",
   "version": "3.11.7"
  }
 },
 "nbformat": 4,
 "nbformat_minor": 5
}
